{
  "nbformat": 4,
  "nbformat_minor": 0,
  "metadata": {
    "colab": {
      "provenance": [],
      "authorship_tag": "ABX9TyNfyaL1KSFjJnQXANSfzCN+",
      "include_colab_link": true
    },
    "kernelspec": {
      "name": "python3",
      "display_name": "Python 3"
    },
    "language_info": {
      "name": "python"
    }
  },
  "cells": [
    {
      "cell_type": "markdown",
      "metadata": {
        "id": "view-in-github",
        "colab_type": "text"
      },
      "source": [
        "<a href=\"https://colab.research.google.com/github/nassim1014/CodeWars-Algo-Sol/blob/main/Code_Wars.ipynb\" target=\"_parent\"><img src=\"https://colab.research.google.com/assets/colab-badge.svg\" alt=\"Open In Colab\"/></a>"
      ]
    },
    {
      "cell_type": "code",
      "execution_count": null,
      "metadata": {
        "id": "9A3--LU2Jc1k"
      },
      "outputs": [],
      "source": [
        "### this is for Codde wars algo solutions and training"
      ]
    },
    {
      "cell_type": "markdown",
      "source": [
        "TSP problem"
      ],
      "metadata": {
        "id": "7gAkrsXpbb2F"
      }
    },
    {
      "cell_type": "code",
      "source": [
        "import numpy as np"
      ],
      "metadata": {
        "id": "PRfXj-1rbjH6"
      },
      "execution_count": 2,
      "outputs": []
    },
    {
      "cell_type": "code",
      "source": [
        "np.setdiff1d(([1,1,2,3]),([2,3]))"
      ],
      "metadata": {
        "colab": {
          "base_uri": "https://localhost:8080/"
        },
        "id": "F9nGp24gb1l4",
        "outputId": "ec39a2fe-28f0-4cd1-89de-bfff523d9fb4"
      },
      "execution_count": 6,
      "outputs": [
        {
          "output_type": "execute_result",
          "data": {
            "text/plain": [
              "array([1])"
            ]
          },
          "metadata": {},
          "execution_count": 6
        }
      ]
    },
    {
      "cell_type": "code",
      "source": [
        "def tsp(matrix):\n",
        "    start = 0\n",
        "    vertex = np.arange(len(matrix))\n",
        "    solution = []\n",
        "    used = []\n",
        "    used.append(start)\n",
        "\n",
        "    for i in np.setdiff1d(vertex,used) :\n",
        "      ...\n",
        "    return list(range(0, len(matrix))) + [0]"
      ],
      "metadata": {
        "id": "UpQAenOUba7t"
      },
      "execution_count": null,
      "outputs": []
    }
  ]
}