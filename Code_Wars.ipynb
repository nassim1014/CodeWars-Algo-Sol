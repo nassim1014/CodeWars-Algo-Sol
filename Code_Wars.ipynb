{
  "nbformat": 4,
  "nbformat_minor": 0,
  "metadata": {
    "colab": {
      "provenance": [],
      "authorship_tag": "ABX9TyNjv74grwhY47VcWh/fHw76",
      "include_colab_link": true
    },
    "kernelspec": {
      "name": "python3",
      "display_name": "Python 3"
    },
    "language_info": {
      "name": "python"
    }
  },
  "cells": [
    {
      "cell_type": "markdown",
      "metadata": {
        "id": "view-in-github",
        "colab_type": "text"
      },
      "source": [
        "<a href=\"https://colab.research.google.com/github/nassim1014/CodeWars-Algo-Sol/blob/main/Code_Wars.ipynb\" target=\"_parent\"><img src=\"https://colab.research.google.com/assets/colab-badge.svg\" alt=\"Open In Colab\"/></a>"
      ]
    },
    {
      "cell_type": "code",
      "execution_count": null,
      "metadata": {
        "id": "9A3--LU2Jc1k"
      },
      "outputs": [],
      "source": [
        "### this is for Codde wars algo solutions and training"
      ]
    },
    {
      "cell_type": "markdown",
      "source": [
        "**TSP problem**"
      ],
      "metadata": {
        "id": "7gAkrsXpbb2F"
      }
    },
    {
      "cell_type": "code",
      "source": [
        "def sort_and_return_args(input_list):\n",
        "    # Enumerate the input list to get index-value pairs\n",
        "    enum_list = list(enumerate(input_list))\n",
        "\n",
        "    # Use sorted with a custom key function to sort based on values\n",
        "    sorted_enum_list = sorted(enum_list, key=lambda x: x[1])\n",
        "\n",
        "    # Extract the indices from the sorted list\n",
        "    sorted_indices = [item[0] for item in sorted_enum_list]\n",
        "\n",
        "    return sorted_indices\n",
        "\n",
        "# Example usage:\n",
        "input_list = [3, 1, 4, 1, 5, 9, 2, 6, 5, 3]\n",
        "sorted_indices = sort_and_return_args(input_list)\n",
        "\n",
        "print(\"Input List:\", input_list)\n",
        "print(\"Sorted Indices:\", sorted_indices)\n"
      ],
      "metadata": {
        "colab": {
          "base_uri": "https://localhost:8080/"
        },
        "id": "bb5HOpH6g7iX",
        "outputId": "98ffe182-1a7d-4b43-8d73-17b75131d235"
      },
      "execution_count": null,
      "outputs": [
        {
          "output_type": "stream",
          "name": "stdout",
          "text": [
            "Input List: [3, 1, 4, 1, 5, 9, 2, 6, 5, 3]\n",
            "Sorted Indices: [1, 3, 6, 0, 9, 2, 4, 8, 7, 5]\n"
          ]
        }
      ]
    },
    {
      "cell_type": "code",
      "source": [
        "import numpy as np"
      ],
      "metadata": {
        "id": "PRfXj-1rbjH6"
      },
      "execution_count": null,
      "outputs": []
    },
    {
      "cell_type": "code",
      "source": [
        "len(np.setdiff1d(([1,1,2,3]),([2,3])))"
      ],
      "metadata": {
        "colab": {
          "base_uri": "https://localhost:8080/"
        },
        "id": "F9nGp24gb1l4",
        "outputId": "40e639ff-ab69-41bf-ba53-72885a02a964"
      },
      "execution_count": null,
      "outputs": [
        {
          "output_type": "execute_result",
          "data": {
            "text/plain": [
              "1"
            ]
          },
          "metadata": {},
          "execution_count": 9
        }
      ]
    },
    {
      "cell_type": "markdown",
      "source": [
        "sol for start is 0"
      ],
      "metadata": {
        "id": "Ua-_LuK4vhaU"
      }
    },
    {
      "cell_type": "code",
      "source": [
        "def tsp(matrix):\n",
        "    start = 0\n",
        "    vertex = np.arange(len(matrix))\n",
        "    used = []\n",
        "    used.append(start)\n",
        "    node = start\n",
        "\n",
        "    while len(np.setdiff1d(vertex,used)) != 0:\n",
        "        for i in  sort_and_return_args(matrix[node]) :\n",
        "            if i in used or i == node :\n",
        "                pass\n",
        "            else :\n",
        "                node = i\n",
        "                used.append(node)\n",
        "                break\n",
        "\n",
        "    used.append(start)\n",
        "    return used"
      ],
      "metadata": {
        "id": "8NqlbejbvgZk"
      },
      "execution_count": null,
      "outputs": []
    },
    {
      "cell_type": "markdown",
      "source": [
        "sol whare path can start with any number"
      ],
      "metadata": {
        "id": "fX9Dj3p8qSfS"
      }
    },
    {
      "cell_type": "code",
      "source": [
        "def tsp(matrix):\n",
        "    vertex = np.arange(len(matrix))\n",
        "    solutions = []\n",
        "\n",
        "    for start in  vertex :\n",
        "      used = []\n",
        "      used.append(start)\n",
        "      node = start\n",
        "      cost = 0\n",
        "      while len(np.setdiff1d(vertex,used)) != 0:\n",
        "        for i in  sort_and_return_args(matrix[node]) :\n",
        "            if i in used or i == node :\n",
        "              pass\n",
        "            else :\n",
        "              cost = cost + matrix[node][i]\n",
        "              node = i\n",
        "              used.append(node)\n",
        "              break\n",
        "\n",
        "      used.append(start)\n",
        "      cost = cost + matrix[node][start]\n",
        "      solutions.append((used , cost))\n",
        "      min_tuple = min(solutions, key=lambda x: x[1])\n",
        "      zero_in = min_tuple[0].index(0)\n",
        "      if zero_in == 0 :\n",
        "        result = min_tuple[0]\n",
        "      else :\n",
        "        result = min_tuple[0][zero_in :] + min_tuple[0][1:zero_in]  + [0]\n",
        "    return solutions #result"
      ],
      "metadata": {
        "id": "UpQAenOUba7t"
      },
      "execution_count": null,
      "outputs": []
    },
    {
      "cell_type": "code",
      "source": [
        "matrix = [\n",
        "    [0,176,463],\n",
        "    [176,0,125],\n",
        "    [463,125,0]\n",
        "]\n",
        "\n",
        "# Possible outcomes\n",
        "tsp(matrix) in [\n",
        "    [0, 1, 2, 0],\n",
        "    [0, 2, 1, 0]\n",
        "]"
      ],
      "metadata": {
        "colab": {
          "base_uri": "https://localhost:8080/"
        },
        "id": "pcRmTaD8j1wS",
        "outputId": "ef0c35a3-1135-4c93-f7ed-b74588cd7383"
      },
      "execution_count": null,
      "outputs": [
        {
          "output_type": "execute_result",
          "data": {
            "text/plain": [
              "True"
            ]
          },
          "metadata": {},
          "execution_count": 72
        }
      ]
    },
    {
      "cell_type": "code",
      "source": [
        "tsp(matrix)"
      ],
      "metadata": {
        "colab": {
          "base_uri": "https://localhost:8080/"
        },
        "id": "v6YkH4MomYUg",
        "outputId": "59ca1f01-8a8f-430f-e794-7514a1f826fe"
      },
      "execution_count": null,
      "outputs": [
        {
          "output_type": "execute_result",
          "data": {
            "text/plain": [
              "[0, 1, 2, 0]"
            ]
          },
          "metadata": {},
          "execution_count": 73
        }
      ]
    },
    {
      "cell_type": "code",
      "source": [
        "test =[]\n",
        "test.append(tsp(matrix))\n",
        "test.append(tsp(matrix))\n",
        "test[0][1]\n",
        "test[1][1]"
      ],
      "metadata": {
        "colab": {
          "base_uri": "https://localhost:8080/"
        },
        "id": "gPJnkW4mj_K1",
        "outputId": "e1a4695b-c6af-4dd8-f06d-ef85022d32f1"
      },
      "execution_count": null,
      "outputs": [
        {
          "output_type": "execute_result",
          "data": {
            "text/plain": [
              "301"
            ]
          },
          "metadata": {},
          "execution_count": 37
        }
      ]
    },
    {
      "cell_type": "code",
      "source": [
        "matrix = [\n",
        "            [0,236,237,134,1,31,4,350,63,478,414,361,328],\n",
        "            [236,0,458,46,148,401,434,168,458,332,205,171,214],\n",
        "            [237,458,0,405,249,220,72,80,149,494,116,470,175],\n",
        "            [134,46,405,0,15,235,453,149,100,313,118,392,277],\n",
        "            [1,148,249,15,0,122,356,43,182,263,281,484,187],\n",
        "            [31,401,220,235,122,0,294,144,444,263,331,154,402],\n",
        "            [4,434,72,453,356,294,0,96,469,245,465,336,299],\n",
        "            [350,168,80,149,43,144,96,0,171,387,390,66,109],\n",
        "            [63,458,149,100,182,444,469,171,0,314,281,420,39],\n",
        "            [478,332,494,313,263,263,245,387,314,0,254,323,243],\n",
        "            [414,205,116,118,281,331,465,390,281,254,0,130,382],\n",
        "            [361,171,470,392,484,154,336,66,420,323,130,0,240],\n",
        "            [328,214,175,277,187,402,299,109,39,243,382,240,0]\n",
        "        ]\n",
        "tsp(matrix)"
      ],
      "metadata": {
        "colab": {
          "base_uri": "https://localhost:8080/"
        },
        "id": "FlHOWYwir0xs",
        "outputId": "7576a270-2334-4672-e8ec-598be222cc3a"
      },
      "execution_count": null,
      "outputs": [
        {
          "output_type": "execute_result",
          "data": {
            "text/plain": [
              "[([0, 4, 3, 1, 7, 11, 10, 2, 6, 9, 12, 8, 5, 0], 1616),\n",
              " ([1, 3, 4, 0, 6, 2, 7, 11, 10, 9, 12, 8, 5, 1], 1795),\n",
              " ([2, 6, 0, 4, 3, 1, 7, 11, 10, 9, 12, 8, 5, 2], 1702),\n",
              " ([3, 4, 0, 6, 2, 7, 11, 10, 1, 12, 8, 9, 5, 3], 1638),\n",
              " ([4, 0, 6, 2, 7, 11, 10, 3, 1, 12, 8, 9, 5, 4], 1469),\n",
              " ([5, 0, 4, 3, 1, 7, 11, 10, 2, 6, 9, 12, 8, 5], 1616),\n",
              " ([6, 0, 4, 3, 1, 7, 11, 10, 2, 8, 12, 9, 5, 6], 1534),\n",
              " ([7, 4, 0, 6, 2, 10, 3, 1, 11, 5, 9, 12, 8, 7], 1441),\n",
              " ([8, 12, 7, 4, 0, 6, 2, 10, 3, 1, 11, 5, 9, 8], 1450),\n",
              " ([9, 12, 8, 0, 4, 3, 1, 7, 11, 10, 2, 6, 5, 9], 1516),\n",
              " ([10, 2, 6, 0, 4, 3, 1, 7, 11, 5, 9, 12, 8, 10], 1468),\n",
              " ([11, 7, 4, 0, 6, 2, 10, 3, 1, 12, 8, 9, 5, 11], 1450),\n",
              " ([12, 8, 0, 4, 3, 1, 7, 11, 10, 2, 6, 9, 5, 12], 1626)]"
            ]
          },
          "metadata": {},
          "execution_count": 78
        }
      ]
    },
    {
      "cell_type": "code",
      "source": [
        "my_array = [8, 12, 7, 4, 0, 6, 2, 10, 3, 1, 11, 5, 9, 8]\n",
        "zero_in = my_array.index(0)\n",
        "my_array[zero_in :] + my_array[1:zero_in]  + [0]"
      ],
      "metadata": {
        "colab": {
          "base_uri": "https://localhost:8080/"
        },
        "id": "OxOt7YDVsVyA",
        "outputId": "97441fb8-10ed-4a14-fa4e-8d77452d02e6"
      },
      "execution_count": null,
      "outputs": [
        {
          "output_type": "execute_result",
          "data": {
            "text/plain": [
              "[0, 6, 2, 10, 3, 1, 11, 5, 9, 8, 12, 7, 4, 0]"
            ]
          },
          "metadata": {},
          "execution_count": 64
        }
      ]
    },
    {
      "cell_type": "markdown",
      "source": [
        "**num of years for p0 to = p** (easy 8 kyu)"
      ],
      "metadata": {
        "id": "RJ9tPFLypzJm"
      }
    },
    {
      "cell_type": "code",
      "source": [
        "def nb_year(p0, percent, aug, p):\n",
        "    years = 0\n",
        "    while p0 < p :\n",
        "        years+=1\n",
        "        p0 = p0 + p0*(percent/100) + aug\n",
        "        #print(p0)\n",
        "\n",
        "    return years\n"
      ],
      "metadata": {
        "id": "lpmakWTwpyVt"
      },
      "execution_count": 3,
      "outputs": []
    },
    {
      "cell_type": "code",
      "source": [
        " nb_year(1500, 5, 100, 5000), # 15)\n",
        " nb_year(1500000, 2.5, 10000, 2000000), # 10)\n",
        " nb_year(1500000, 0.25, 1000, 2000000), # 94)"
      ],
      "metadata": {
        "colab": {
          "base_uri": "https://localhost:8080/"
        },
        "id": "1drmcdQkp3Bm",
        "outputId": "56ca9df4-83e2-46e6-b49b-e23ba8426729"
      },
      "execution_count": 4,
      "outputs": [
        {
          "output_type": "execute_result",
          "data": {
            "text/plain": [
              "(94,)"
            ]
          },
          "metadata": {},
          "execution_count": 4
        }
      ]
    },
    {
      "cell_type": "code",
      "source": [],
      "metadata": {
        "id": "rjKs-VvTIHft"
      },
      "execution_count": null,
      "outputs": []
    }
  ]
}